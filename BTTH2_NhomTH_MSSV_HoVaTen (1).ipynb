{
 "cells": [
  {
   "cell_type": "markdown",
   "metadata": {},
   "source": [
    "MSSV:21118311\n",
    "\n",
    "Họ và tên:Trần Thế Đông\n",
    "\n",
    "Lớp học phần:420300207401\n",
    "\n",
    "Nhóm thực hành: Nhóm 1"
   ]
  },
  {
   "cell_type": "markdown",
   "metadata": {},
   "source": [
    "# 1. Decision Making and Loops\n",
    "---"
   ]
  },
  {
   "cell_type": "markdown",
   "metadata": {},
   "source": [
    "## 1.1. Viết chương trình kiểm tra một số là số dương, số âm hay bằng không không.\n",
    "\n",
    "Sử dụng 2 dạng của câu lệnh rễ nhánh: \n",
    "\n",
    "if ... elif ... else\n",
    "\n",
    "Nested if"
   ]
  },
  {
   "cell_type": "code",
   "execution_count": 1,
   "metadata": {},
   "outputs": [
    {
     "name": "stdout",
     "output_type": "stream",
     "text": [
      "Nhập 1 số: -2\n",
      "-2.0\n",
      "số đã nhập là số am \n"
     ]
    }
   ],
   "source": [
    "# Dạng 1 if ... elif ... else\n",
    "num = float(input(\"Nhập 1 số: \"))\n",
    "\n",
    "\n",
    "if(num > 0): \n",
    "\tprint(\"số đã nhập là số dương \")\n",
    "elif(num < 0): \n",
    "\tprint(\"số đã nhập là số am \")\n",
    "else: \n",
    "\tprint(\"số đã nhập = 0 \")\n"
   ]
  },
  {
   "cell_type": "code",
   "execution_count": 4,
   "metadata": {},
   "outputs": [
    {
     "name": "stdout",
     "output_type": "stream",
     "text": [
      "Nhập vào một số: 0\n",
      "số đã nhập = 0 \n"
     ]
    }
   ],
   "source": [
    "# Dạng 2: Nested if\n",
    "num = float(input(\"Nhập vào một số: \"))\n",
    "\n",
    "### START CODE HERE ### \n",
    "\n",
    "if num >= 0:\n",
    "    if num > 0:\n",
    "        print(\"số đã nhập là số dương \")\n",
    "    else:\n",
    "        print(\"số đã nhập = 0 \")\n",
    "if num < 0:\n",
    "    print(\"số đã nhập là số am \")\n",
    "### END CODE HERE ###"
   ]
  },
  {
   "cell_type": "markdown",
   "metadata": {},
   "source": [
    "## 1.2. Viết chương trình kiểm tra một năm có phải năm nhuận không.\n",
    "\n",
    "Năm nhuận là năm chia hết cho 4, trừ những năm đầu thế kỷ (chia hết cho 100). Những năm đầu thế kỷ là năm nhuận khi nó chia hết cho 400 (ví dụ năm 2100 không phải là năm nhuận, 2104 là năm nhuận).\n",
    "\n",
    "Sử dụng 2 dạng của câu lệnh rễ nhánh: \n",
    "\n",
    "if ... elif ... else\n",
    "\n",
    "Nested if"
   ]
  },
  {
   "cell_type": "code",
   "execution_count": 7,
   "metadata": {},
   "outputs": [
    {
     "name": "stdout",
     "output_type": "stream",
     "text": [
      "Nhập năm: 2000\n",
      "2000 là năm nhuận\n"
     ]
    }
   ],
   "source": [
    "# Sử dụng lệnh if lồng nhau\n",
    "year = int(input(\"Nhập năm: \"))\n",
    "\n",
    "if (year % 4) == 0:\n",
    "    if (year % 100) == 0:\n",
    "        if (year % 400) == 0:\n",
    "            print(\"{0} là năm nhuận\".format(year))\n",
    "        else:\n",
    "            print(\"{0} không phải là năm nhuận\".format(year))\n",
    "    else:\n",
    "        print(\"{0} là năm nhuận\".format(year))\n",
    "else:\n",
    "    print(\"{0} không phải là năm nhuận\".format(year))"
   ]
  },
  {
   "cell_type": "code",
   "execution_count": 8,
   "metadata": {},
   "outputs": [
    {
     "name": "stdout",
     "output_type": "stream",
     "text": [
      "Nhập năm: 2000\n",
      "nam nhuan\n"
     ]
    }
   ],
   "source": [
    "# Sử dụng lệnh if ... elif ... else\n",
    "year = int(input(\"Nhập năm: \"))\n",
    "\n",
    "### START CODE HERE ### \n",
    "if((year % 4 ==0 and  year % 100 !=0) or (year % 400 ==0)):\n",
    "    print(\"nam nhuan\")\n",
    "else:\n",
    "    print(\"nam ko nhuan\")\n",
    "\n",
    "### END CODE HERE ###"
   ]
  },
  {
   "cell_type": "markdown",
   "metadata": {},
   "source": [
    "## 1.3. Viết chương trình kiểm tra một số nguyên có phải số nguyên tố không. Nếu không phải là số nguyên tố in ra lý do."
   ]
  },
  {
   "cell_type": "code",
   "execution_count": 10,
   "metadata": {},
   "outputs": [
    {
     "name": "stdout",
     "output_type": "stream",
     "text": [
      "Enter a number: 907\n",
      "so nt\n"
     ]
    }
   ],
   "source": [
    "num = int(input(\"Enter a number: \"))\n",
    "\n",
    "# Số nguyên tố phải lớn hơn 1\n",
    "flag=0\n",
    "if num > 1:\n",
    "    for i in range(2,num):\n",
    "        if (num % i) == 0:\n",
    "            flag+=1\n",
    "   \n",
    "    if flag > 0:\n",
    "        print(\"ko so nt\");\n",
    "    else:\n",
    "        print(\"so nt\")\n",
    "else:\n",
    "    print(num,\"không phải là số nguyên tố\")"
   ]
  },
  {
   "cell_type": "code",
   "execution_count": null,
   "metadata": {},
   "outputs": [],
   "source": [
    "##### 1.4. Viết chương trình in ra tất cả các số nguyên tố trong khoảng (a,b)"
   ]
  },
  {
   "cell_type": "code",
   "execution_count": 9,
   "metadata": {},
   "outputs": [
    {
     "name": "stdout",
     "output_type": "stream",
     "text": [
      "Prime numbers between 900 and 1000 are:\n",
      "907\n",
      "911\n",
      "919\n",
      "929\n",
      "937\n",
      "941\n",
      "947\n",
      "953\n",
      "967\n",
      "971\n",
      "977\n",
      "983\n",
      "991\n",
      "997\n"
     ]
    }
   ],
   "source": [
    "# Python program to display all the prime numbers within an interval\n",
    "\n",
    "lower = 900\n",
    "upper = 1000\n",
    "\n",
    "print(\"Prime numbers between\", lower, \"and\", upper, \"are:\")\n",
    "\n",
    "for num in range(lower, upper + 1):\n",
    "    if num > 1:\n",
    "        flag=0\n",
    "    for i in range(2,num):\n",
    "        if (num % i) == 0:\n",
    "            flag+=1\n",
    "   \n",
    "    if flag == 0:\n",
    "        print(num)\n",
    "\n",
    "      "
   ]
  },
  {
   "cell_type": "markdown",
   "metadata": {},
   "source": [
    "## 1.5. Viết chương trình in ra 5 số Armstrong bé nhất.\n",
    "\n",
    "Một số nguyên dương gồm n chữ số được gọi là số Armstrong bậc n nếu\n",
    "\n",
    "abcd... = a^n + b^n + c^n + d^n + ...\n",
    "\n",
    "VD: 153 = 1*1*1 + 5*5*5 + 3*3*3 "
   ]
  },
  {
   "cell_type": "code",
   "execution_count": null,
   "metadata": {},
   "outputs": [],
   "source": [
    "def is_armstrong(num):\n",
    "    # Tính số chữ số trong num\n",
    "    num_digits = len(str(num))\n",
    "    \n",
    "    # Tạo bản sao của num để tính tổng các mũ của các chữ số\n",
    "    temp = num\n",
    "    total = 0\n",
    "    while temp > 0:\n",
    "        digit = temp % 10\n",
    "        total += digit ** num_digits\n",
    "        temp //= 10\n",
    "    \n",
    "    # Kiểm tra xem num có phải là số Armstrong hay không\n",
    "    return num == total\n",
    "\n",
    "count = 0\n",
    "num = 0\n",
    "\n",
    "print(\"5 số Armstrong bé nhất là:\")\n",
    "while count < 5:\n",
    "    if is_armstrong(num):\n",
    "        print(num)\n",
    "        count += 1\n",
    "    num += 1"
   ]
  },
  {
   "cell_type": "markdown",
   "metadata": {},
   "source": [
    "# 2. Functions\n",
    "---"
   ]
  },
  {
   "cell_type": "markdown",
   "metadata": {},
   "source": [
    "## 2.1. Viết hàm nhận vào một số nguyên, trả về giá trị True nếu nó là số nguyên tố, và False nếu nó không phải là số nguyên tố.\n",
    "\n",
    "Sử dụng code của Bài 1.3"
   ]
  },
  {
   "cell_type": "code",
   "execution_count": 25,
   "metadata": {},
   "outputs": [],
   "source": [
    "def prime(num):\n",
    "\n",
    "\t\tif num > 1:\n",
    "### START CODE HERE ### \n",
    "# Sử dụng for ... else\n",
    "\t\t\tfor i in range(2 , num):\n",
    "\t\t\t\tif(num)%i ==0:\n",
    "\t\t\t\t\treturn False\n",
    "\t\t\t\t\tbreak\n",
    "\t\t\t\treturn True "
   ]
  },
  {
   "cell_type": "markdown",
   "metadata": {},
   "source": [
    "Kiểm tra hoạt động của hàm prime(n) đã viết"
   ]
  },
  {
   "cell_type": "code",
   "execution_count": 27,
   "metadata": {},
   "outputs": [
    {
     "name": "stdout",
     "output_type": "stream",
     "text": [
      "Nhập vào một số:5\n",
      "5 là số nguyên tố\n"
     ]
    }
   ],
   "source": [
    "n = int(input(\"Nhập vào một số:\"))\n",
    "if prime(n):\n",
    "    print(n, 'là số nguyên tố')\n",
    "else:\n",
    "    print(n, 'không phải là số nguyên tố')"
   ]
  },
  {
   "cell_type": "markdown",
   "metadata": {},
   "source": [
    "## 2.2. Viết hàm nhận vào một số nguyên, trả về giá trị True nếu nó là số Armstrong, và False nếu nó không phải là số Armstrong.\n",
    "\n",
    "Sử dụng code của Bài 1.5"
   ]
  },
  {
   "cell_type": "code",
   "execution_count": null,
   "metadata": {},
   "outputs": [],
   "source": [
    "def armstrong(n):\n",
    "    ### START CODE HERE ### \n",
    "    # Sử dụng code của Bài 1.5\n",
    "    n_len = len(str(n))\n",
    "    sum = 0\n",
    "    temp = n\n",
    "    digit = 0\n",
    "    while temp > 0:\n",
    "        digit = temp % 10\n",
    "        sum += digit**n_len\n",
    "        temp = int(temp / 10)\n",
    "    if sum == n: return(True)\n",
    "    return(False)\n",
    "    ### END CODE HERE ###"
   ]
  },
  {
   "cell_type": "markdown",
   "metadata": {},
   "source": [
    "Kiểm tra hoạt động của hàm armstrong(n) đã viết"
   ]
  },
  {
   "cell_type": "code",
   "execution_count": null,
   "metadata": {},
   "outputs": [],
   "source": [
    "n = 153\n",
    "# n = 35\n",
    "if armstrong(n):\n",
    "    print(n, 'là số armstrong')\n",
    "else:\n",
    "    print(n, 'không phải là số armstrong')"
   ]
  },
  {
   "cell_type": "markdown",
   "metadata": {},
   "source": [
    "## 2.3. Sử dụng hàm Lambda để in ra 10 lũy thừa đầu tiên của 2."
   ]
  },
  {
   "cell_type": "code",
   "execution_count": 3,
   "metadata": {},
   "outputs": [],
   "source": [
    "# Display the powers of 2 using anonymous function\n",
    "luy_thua = lambda x: 2 ** x\n",
    "n = 10\n",
    "# In ra 10 lũy thừa đầu tiên của 2\n",
    "for i in range(n+1):\n",
    "    print(luy_thua(i))\n",
    "# use anonymous/lambda function"
   ]
  },
  {
   "cell_type": "markdown",
   "metadata": {},
   "source": [
    "## 2.4. Sử dụng hàm Lambda để in ra 10 số chính phương đầu tiên"
   ]
  },
  {
   "cell_type": "code",
   "execution_count": null,
   "metadata": {},
   "outputs": [],
   "source": [
    "terms = 0\n",
    "number = 0\n",
    "chinh_phuong = lambda x : x == int(x**0.5)**2\n",
    "# use anonymous function\n",
    "\n",
    "    ### START CODE HERE ### \n",
    "    # Sử dụng kết hợp với hàm map()\n",
    "\n",
    "    ### END CODE HERE ###\n",
    "\n",
    "while terms <= 10:\n",
    "    if chinh_phuong(number):\n",
    "        print(number)\n",
    "        terms += 1\n",
    "    number += 1"
   ]
  },
  {
   "cell_type": "markdown",
   "metadata": {},
   "source": [
    "## 2.5. Sử dụng hàm Lambda để in ra các số lẻ trong một dãy"
   ]
  },
  {
   "cell_type": "code",
   "execution_count": 2,
   "metadata": {},
   "outputs": [
    {
     "name": "stdout",
     "output_type": "stream",
     "text": [
      "Các số lẻ trong dãy [65, 39, 339, 221]\n"
     ]
    }
   ],
   "source": [
    "# Take a list of numbers\n",
    "my_list = [12, 65, 54, 39, 102, 339, 221,]\n",
    "\n",
    "# use anonymous function to filter\n",
    "result = list(filter(lambda x: (x % 2 == 1), my_list))\n",
    "\n",
    "# display the result\n",
    "print(\"Các số lẻ trong dãy\",result)"
   ]
  },
  {
   "cell_type": "markdown",
   "metadata": {},
   "source": [
    "## 2.5. Sử dụng hàm filter() để in ra các số nguyên tố trong một dãy"
   ]
  },
  {
   "cell_type": "code",
   "execution_count": null,
   "metadata": {},
   "outputs": [],
   "source": [
    "# Take a list of numbers\n",
    "my_list = [12, 65, 54, 39, 102, 339, 221,]\n",
    "\n",
    "# định nghĩa hàm nhận vào một số nguyên,\n",
    "# trả về giá trị True nếu nó là số nguyên tố,\n",
    "# và False nếu nó không phải là số nguyên tố.\n",
    "def prime(num):\n",
    "    ### START CODE HERE ### \n",
    "    if num > 1:\n",
    "        for i in range(2,num):\n",
    "            if (num % i) == 0:\n",
    "                return(False)\n",
    "    else:\n",
    "        return(False)\n",
    "    return(True)\n",
    "\n",
    "    ### END CODE HERE ###\n",
    "    \n",
    "# use filter()\n",
    "    ### START CODE HERE ### \n",
    "result = list(filter(lambda x : prime(x), my_list))    \n",
    "\n",
    "    ### END CODE HERE ###\n",
    "    \n",
    "# display the result\n",
    "if len(result) == 0: \n",
    "    print(\"Không có số nguyên tố trong dãy\")\n",
    "else :\n",
    "    print(\"Các số nguyên tố trong dãy\",result)"
   ]
  }
 ],
 "metadata": {
  "kernelspec": {
   "display_name": "Python 3 (ipykernel)",
   "language": "python",
   "name": "python3"
  },
  "language_info": {
   "codemirror_mode": {
    "name": "ipython",
    "version": 3
   },
   "file_extension": ".py",
   "mimetype": "text/x-python",
   "name": "python",
   "nbconvert_exporter": "python",
   "pygments_lexer": "ipython3",
   "version": "3.9.13"
  }
 },
 "nbformat": 4,
 "nbformat_minor": 2
}
